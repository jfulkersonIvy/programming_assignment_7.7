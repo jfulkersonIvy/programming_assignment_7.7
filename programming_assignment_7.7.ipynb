{
 "cells": [
  {
   "cell_type": "code",
   "execution_count": 1,
   "id": "1310f77e",
   "metadata": {},
   "outputs": [],
   "source": [
    "class LinearEquation:\n",
    "    def __init__(self, __a, __b, __c, __d, __e, __f):\n",
    "        self.__a = __a\n",
    "        self.__b = __b\n",
    "        self.__c = __c\n",
    "        self.__d = __d\n",
    "        self.__e = __e\n",
    "        self.__f = __f\n",
    "\n",
    "    def getA(self):\n",
    "        return self.__a\n",
    "    \n",
    "    def getB(self):\n",
    "        return self.__b\n",
    "\n",
    "    def getC(self):\n",
    "        return self.__c\n",
    "\n",
    "    def getD(self):\n",
    "        return self.__d\n",
    "\n",
    "    def getE(self):\n",
    "        return self.__e\n",
    "\n",
    "    def getF(self):\n",
    "        return self.__f\n",
    "\n",
    "    def isSolvable(self):\n",
    "        if ((self.__a * self.__d) - (self.__b * self.__c)) != 0:\n",
    "            return True\n",
    "        else:\n",
    "            return False\n",
    "    def getX(self):\n",
    "        x = (((self.__e * self.__d) - (self.__b * self.__f)) / ((self.__a * self.__d) - (self.__b * self.__c)))\n",
    "        return x\n",
    "\n",
    "    def getY(self):\n",
    "        y = ((self.__a * self.__f) - (self.__e * self.__c)) / ((self.__a * self.__d) - (self.__b * self.__c))\n",
    "        return y"
   ]
  },
  {
   "cell_type": "code",
   "execution_count": 2,
   "id": "cccb9f4b",
   "metadata": {},
   "outputs": [
    {
     "name": "stdout",
     "output_type": "stream",
     "text": [
      "Enter variables one by one to fill a set of 2 linear equations\n",
      "Example: ax + by = e and cx + dy = f\n",
      "A value: 2\n",
      "B value: -5\n",
      "C value: 3\n",
      "D value: 1\n",
      "E value: 15\n",
      "F value: 31\n",
      "x = 10.0\n",
      "y = 1.0\n"
     ]
    }
   ],
   "source": [
    "print(\"Enter variables one by one to fill a set of 2 linear equations\")\n",
    "print(\"Example: ax + by = e and cx + dy = f\")\n",
    "a = int(input(\"A value: \"))\n",
    "b = int(input(\"B value: \"))\n",
    "c = int(input(\"C value: \"))\n",
    "d = int(input(\"D value: \"))\n",
    "e = int(input(\"E value: \"))\n",
    "f = int(input(\"F value: \"))\n",
    "userInput = LinearEquation(a, b, c, d, e, f)\n",
    "if userInput.isSolvable() == True:\n",
    "    print(f\"x = {userInput.getX()}\")\n",
    "    print(f\"y = {userInput.getY()}\")\n",
    "else:\n",
    "    print(\"The equation has no solution.\")"
   ]
  },
  {
   "cell_type": "code",
   "execution_count": null,
   "id": "2a9a9f5e",
   "metadata": {},
   "outputs": [],
   "source": []
  }
 ],
 "metadata": {
  "kernelspec": {
   "display_name": "Python 3 (ipykernel)",
   "language": "python",
   "name": "python3"
  },
  "language_info": {
   "codemirror_mode": {
    "name": "ipython",
    "version": 3
   },
   "file_extension": ".py",
   "mimetype": "text/x-python",
   "name": "python",
   "nbconvert_exporter": "python",
   "pygments_lexer": "ipython3",
   "version": "3.9.12"
  }
 },
 "nbformat": 4,
 "nbformat_minor": 5
}
